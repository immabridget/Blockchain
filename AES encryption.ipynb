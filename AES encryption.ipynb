{
 "cells": [
  {
   "cell_type": "code",
   "execution_count": null,
   "metadata": {},
   "outputs": [],
   "source": [
    "pip install pycrypto"
   ]
  },
  {
   "cell_type": "code",
   "execution_count": null,
   "metadata": {},
   "outputs": [],
   "source": [
    "import base64\n",
    "import hashlib\n",
    "from Crypto.Cipher import AES\n",
    "from Crypto import Random"
   ]
  },
  {
   "cell_type": "code",
   "execution_count": null,
   "metadata": {},
   "outputs": [],
   "source": [
    "def Encrypt(plaintext, key):\n",
    "  \n",
    "  blocks := DivideIntoBlocks(plaintext)\n",
    "  roundKeys = GetRoundKeys(key)\n",
    "  for block in blocks:\n",
    "    //first round\n",
    "    AddRoundKey(roundKeys[0], block);\n",
    "    //intermediate rounds\n",
    "    for 8, 10 or 12 rounds:\n",
    "      SubBytes(block);\n",
    "      ShiftRows(block);\n",
    "      MixColumns(block);\n",
    "      AddRoundKey(roundKeys[..], block)\n",
    "    //last round\n",
    "    SubBytes(block);\n",
    "    ShiftRows(block);\n",
    "    AddRoundKey(roundKeys[numRounds - 1], block);\n",
    "    \n",
    "  ciphertext := Reassemble(blocks);\n",
    "  return ciphertext;\n",
    "\n"
   ]
  },
  {
   "cell_type": "code",
   "execution_count": null,
   "metadata": {},
   "outputs": [],
   "source": [
    "def GetRoundKeys(byte key[4*Nk], word w[Nb*(Nr+1)], Nk):\n",
    "word temp\n",
    "i = 0\n",
    " \n",
    "while (i < Nk)\n",
    "w[i] = word(key[4*i], key[4*i+1], key[4*i+2], key[4*i+3])\n",
    "i = i+1\n",
    "\n",
    " \n",
    "i = Nk\n",
    " \n",
    "while (i < Nb * (Nr+1)\n",
    "temp = w[i-1]\n",
    "if (i mod Nk = 0)\n",
    "temp = SubWord(RotWord(temp)) xor Rcon[i/Nk]\n",
    "else if (Nk > 6 and i mod Nk = 4)\n",
    "temp = SubWord(temp)\n",
    "\n",
    " \n",
    "w[i] = w[i-Nk] xor temp\n",
    "i = i + 1\n",
    "\n",
    "\n",
    "\n"
   ]
  },
  {
   "cell_type": "code",
   "execution_count": null,
   "metadata": {},
   "outputs": [],
   "source": [
    "def InvCipher(byte in[4*Nb], byte out[4*Nb], word w[Nb*(Nr+1)]):\n",
    "byte state[4,Nb]\n",
    "state = in\n",
    " \n",
    "AddRoundKey(state, w[Nr*Nb, (Nr+1)*Nb-1])\n",
    " \n",
    "for round = Nr-1 step -1 \n",
    "InvShiftRows(state) \n",
    "InvSubBytes(state) \n",
    "AddRoundKey(state, w[round*Nb, (round+1)*Nb-1])\n",
    "InvMixColumns(state) // See Sec. 5.3.3\n",
    "\n",
    " \n",
    "InvShiftRows(state)\n",
    "InvSubBytes(state)\n",
    "AddRoundKey(state, w[0, Nb-1])\n",
    " \n",
    "out = state\n",
    " \n"
   ]
  }
 ],
 "metadata": {
  "kernelspec": {
   "display_name": "Python 3",
   "language": "python",
   "name": "python3"
  },
  "language_info": {
   "codemirror_mode": {
    "name": "ipython",
    "version": 3
   },
   "file_extension": ".py",
   "mimetype": "text/x-python",
   "name": "python",
   "nbconvert_exporter": "python",
   "pygments_lexer": "ipython3",
   "version": "3.8.5"
  }
 },
 "nbformat": 4,
 "nbformat_minor": 4
}
